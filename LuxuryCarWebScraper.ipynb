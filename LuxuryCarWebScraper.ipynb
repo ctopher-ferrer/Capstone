{
 "cells": [
  {
   "cell_type": "code",
   "execution_count": null,
   "metadata": {},
   "outputs": [],
   "source": [
    "# Grab a list of luxury cars\n",
    "\n",
    "import requests\n",
    "from bs4 import BeautifulSoup as soup\n",
    "import pandas as pd\n",
    "\n",
    "url = \"https://www.carfax.com/blog/luxury-car-brands\"\n",
    "filename = \"LuxuryCars\"\n",
    "\n",
    "# print(columns)\n",
    "\n",
    "# create/list columns for data\n",
    "column_names = [\n",
    "]\n",
    "\n",
    "# create dictionary for data to load into:\n",
    "Luxury_car_dict = {}\n",
    "\n",
    "\n",
    "# load request data to variable and parse data via BeautifulSoup\n",
    "response = requests.get(url)\n",
    "results = soup(response.content, \"html.parser\")\n",
    "\n",
    "# filter table data \"td\" and clean data\n",
    "luxury_table_data = results.find_all(\"h3\")\n",
    "luxury_car_list = [value.text for value in luxury_table_data]\n",
    "\n",
    "\n",
    "print(luxury_car_list)\n",
    "\n",
    "# df.to_csv(filename,index=False)"
   ]
  },
  {
   "cell_type": "code",
   "execution_count": null,
   "metadata": {},
   "outputs": [],
   "source": [
    "# Clean luxury car list of junk data\n",
    "import sqlite3\n",
    "import pandas as pd\n",
    "\n",
    "connection = sqlite3.connect(\"Capstone.db\")\n",
    "\n",
    "remove = ['Other Car Brand Articles', '\\nFastest Cars in 2023 ', '\\nCheapest RWD Cars in 2023 ', '\\nBest Cheap Turbo Cars in 2023 ']\n",
    "\n",
    "for brand in luxury_car_list:\n",
    "    if brand in remove:\n",
    "        luxury_car_list.remove(brand)\n",
    "    else:\n",
    "        print()\n",
    "\n",
    "LuxuryCarBrands = pd.Series(luxury_car_list,name=\"BrandName\")\n"
   ]
  },
  {
   "cell_type": "code",
   "execution_count": null,
   "metadata": {},
   "outputs": [],
   "source": [
    "# import Luxury Car Data into SQLite\n",
    "\n",
    "import sqlite3\n",
    "import pandas as pd\n",
    "\n",
    "print(LuxuryCarBrands)\n",
    "\n",
    "connection = sqlite3.connect(\"Capstone.db\")\n",
    "cursor = connection.cursor()\n",
    "\n",
    "cursor.execute(\"drop table LuxuryCarBrands\")\n",
    "cursor.execute(\"create table LuxuryCarBrands (BrandName text)\")\n",
    "\n",
    "\n",
    "cursor.executemany(\"insert into LuxuryCarBrands values (?)\",LuxuryCarBrands)\n",
    "\n",
    "connection.close()"
   ]
  }
 ],
 "metadata": {
  "language_info": {
   "name": "python"
  },
  "orig_nbformat": 4
 },
 "nbformat": 4,
 "nbformat_minor": 2
}
